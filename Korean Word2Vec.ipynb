{
 "cells": [
  {
   "cell_type": "markdown",
   "metadata": {},
   "source": [
    "## Korean Word2Vec"
   ]
  },
  {
   "cell_type": "code",
   "execution_count": 1,
   "metadata": {},
   "outputs": [],
   "source": [
    "import nltk\n",
    "from nltk import word_tokenize, sent_tokenize\n",
    "import gensim\n",
    "from gensim.models.word2vec import Word2Vec\n",
    "from sklearn.manifold import TSNE\n",
    "import pandas as pd\n",
    "from bokeh.io import output_notebook\n",
    "from bokeh.plotting import show, figure\n",
    "%matplotlib inline"
   ]
  },
  {
   "cell_type": "code",
   "execution_count": 2,
   "metadata": {},
   "outputs": [],
   "source": [
    "KoreansDocuments = [\n",
    "    \"쉬벌...쌤숭 갤7 배터리 스웰링났네요-_-\",\n",
    "    \"ㅋㅋㅋㅋㅋㅋㅋㅋㅋㅋ 갤7 배터리 스웰링 서비스센터에서 자연스러운 현상입니다 했던 게시글 누가 신고해서 삭제되었네요.\",\n",
    "    \"배터리 스웰링이 애플 삼성 LG 상관없이 일어날 수 있는 건 사실인데\",\n",
    "    \"배터리 스웰링이 자연스러운 현상이면,\",\n",
    "    \"미맥스 배터리 스웰링이 생겼네요..\",\n",
    "    \"아이폰8+ 새 제품 배터리 스웰링이 있었네요\",\n",
    "    \"아이폰 8 시리즈 &  노트 8 이슈 사항들(폭발,스웰링,갭,빛샘,코팅)\",\n",
    "    \"애플 아이폰 8 배터리 스웰링 국내 발생\",\n",
    "    \"아이폰 8+ 중국에서도 배터리 스웰링 현상 나타나\",\n",
    "    \"이번 아이폰8 배터리 스웰링 생각보다 문제가 좀 생길수도 있을 것 같네요\",\n",
    "    \"애플 아이폰 8 \\\"균열(배터리 스웰링) 문제 조사 중\\\" 짧은 성명\",\n",
    "    \"국내 아이폰 8 배터리 스웰링 추가 발생.\",\n",
    "    \"갤럭시 노트3 배터리 스웰링현상있네요\",\n",
    "    \"아임백 배터리도 스웰링 증상이 발생하는 걸까요?\",\n",
    "    \"배터리 부풀음(스웰링 현상) 무섭군요..\",\n",
    "    \"삼성 배터리 스웰링은 종특인가요??\",\n",
    "    \"배터리 스웰링이 핸드폰 때문일수도..\",\n",
    "    \"아이언2  배터리 스웰링\",\n",
    "    \"노트4 스웰링(부풀음) 줸장할 삼성\",\n",
    "    \"스웰링이 언제부터 일반적이었나요.\",\n",
    "    \"갤7 배터리 스웰링? 사진보니 사고싶은 맘이 사라지네요 ㅠㅠ\"\n",
    "]"
   ]
  },
  {
   "cell_type": "code",
   "execution_count": 3,
   "metadata": {},
   "outputs": [
    {
     "data": {
      "text/plain": [
       "['쉬벌', '...', '쌤숭', '갤7', '배터리', '스웰링났네요-_-']"
      ]
     },
     "execution_count": 3,
     "metadata": {},
     "output_type": "execute_result"
    }
   ],
   "source": [
    "word_tokenize(KoreansDocuments[0])"
   ]
  },
  {
   "cell_type": "code",
   "execution_count": 4,
   "metadata": {},
   "outputs": [],
   "source": [
    "KoreanTokenizedSentences = [word_tokenize(i) for i in KoreansDocuments]"
   ]
  },
  {
   "cell_type": "code",
   "execution_count": 21,
   "metadata": {},
   "outputs": [
    {
     "data": {
      "text/plain": [
       "[['쉬벌', '...', '쌤숭', '갤7', '배터리', '스웰링났네요-_-'],\n",
       " ['ㅋㅋㅋㅋㅋㅋㅋㅋㅋㅋ',\n",
       "  '갤7',\n",
       "  '배터리',\n",
       "  '스웰링',\n",
       "  '서비스센터에서',\n",
       "  '자연스러운',\n",
       "  '현상입니다',\n",
       "  '했던',\n",
       "  '게시글',\n",
       "  '누가',\n",
       "  '신고해서',\n",
       "  '삭제되었네요',\n",
       "  '.'],\n",
       " ['배터리', '스웰링이', '애플', '삼성', 'LG', '상관없이', '일어날', '수', '있는', '건', '사실인데'],\n",
       " ['배터리', '스웰링이', '자연스러운', '현상이면', ','],\n",
       " ['미맥스', '배터리', '스웰링이', '생겼네요..']]"
      ]
     },
     "execution_count": 21,
     "metadata": {},
     "output_type": "execute_result"
    }
   ],
   "source": [
    "KoreanTokenizedSentences[:5]"
   ]
  },
  {
   "cell_type": "code",
   "execution_count": 18,
   "metadata": {},
   "outputs": [],
   "source": [
    "koreanModel = Word2Vec(sentences=KoreanTokenizedSentences, size=64, sg=1, window=10, min_count=1, seed=42, workers=8)"
   ]
  },
  {
   "cell_type": "code",
   "execution_count": 19,
   "metadata": {},
   "outputs": [],
   "source": [
    "koreanModel.save('KoreanWord2Vec.w2v')"
   ]
  },
  {
   "cell_type": "code",
   "execution_count": 20,
   "metadata": {},
   "outputs": [
    {
     "data": {
      "text/plain": [
       "[('스웰링', 0.40074846148490906),\n",
       " ('때문일수도..', 0.3315432667732239),\n",
       " ('코팅', 0.26573267579078674),\n",
       " ('일어날', 0.24745780229568481),\n",
       " ('중국에서도', 0.23974096775054932),\n",
       " ('조사', 0.23094260692596436),\n",
       " ('자연스러운', 0.2202387899160385),\n",
       " ('사라지네요', 0.20768478512763977),\n",
       " ('문제', 0.1941802054643631),\n",
       " ('8+', 0.19043448567390442)]"
      ]
     },
     "execution_count": 20,
     "metadata": {},
     "output_type": "execute_result"
    }
   ],
   "source": [
    "koreanModel.most_similar(u'배터리')"
   ]
  },
  {
   "cell_type": "code",
   "execution_count": null,
   "metadata": {},
   "outputs": [],
   "source": []
  }
 ],
 "metadata": {
  "kernelspec": {
   "display_name": "Python 3",
   "language": "python",
   "name": "python3"
  },
  "language_info": {
   "codemirror_mode": {
    "name": "ipython",
    "version": 3
   },
   "file_extension": ".py",
   "mimetype": "text/x-python",
   "name": "python",
   "nbconvert_exporter": "python",
   "pygments_lexer": "ipython3",
   "version": "3.6.3"
  }
 },
 "nbformat": 4,
 "nbformat_minor": 2
}
